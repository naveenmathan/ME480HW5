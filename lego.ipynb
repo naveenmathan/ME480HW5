{
 "cells": [
  {
   "cell_type": "code",
   "execution_count": 1,
   "metadata": {},
   "outputs": [],
   "source": [
    "from solid import *\n",
    "from solid.utils import *\n",
    "import viewscad\n",
    "\n",
    "r = viewscad.Renderer(openscad_exec='C:\\Program Files\\OpenSCAD\\openscad.exe')"
   ]
  },
  {
   "cell_type": "code",
   "execution_count": 2,
   "metadata": {},
   "outputs": [
    {
     "name": "stdout",
     "output_type": "stream",
     "text": [
      "m : 5\n",
      "n : 3\n"
     ]
    },
    {
     "data": {
      "application/vnd.jupyter.widget-view+json": {
       "model_id": "77988ed0d849425a80fbbf14546b52da",
       "version_major": 2,
       "version_minor": 0
      },
      "text/plain": [
       "VBox(children=(HTML(value=''), Renderer(background='#cccc88', background_opacity=0.0, camera=PerspectiveCamera…"
      ]
     },
     "metadata": {},
     "output_type": "display_data"
    }
   ],
   "source": [
    "#Gen 1\n",
    "def lego(m,n): # Base with Posts\n",
    "    sf=1 # Scale factor\n",
    "    h=0.6 # height of block\n",
    "    dh = 0.8 # Hole diameter\n",
    "    \n",
    "    # 4 corners\n",
    "    c = translate([0.5,0.5,0])(cylinder(h = h, d = sf, segments=100)) \n",
    "    c = c + translate([m-0.5,0.5,0])(cylinder(h = h, d = sf, segments=100))\n",
    "    c = c + translate([0.5,n-0.5,0])(cylinder(h = h, d = sf, segments=100))\n",
    "    c = c + translate([m-0.5,n-0.5,0])(cylinder(h = h, d = sf, segments=100))\n",
    "    p=hull()(c)\n",
    "    \n",
    "    # Holes\n",
    "    for i in range(m):\n",
    "        for j in range(n):\n",
    "            p = p - translate([i+0.5,j+0.5,0]) (cylinder(h=h,d=dh,segments=100))\n",
    "    \n",
    "    return(p)\n",
    "\n",
    "#lego(5,2)\n",
    "m=int(input('m : '))\n",
    "n=int(input('n : '))\n",
    "brick = lego(m,n)\n",
    "r.render(brick)"
   ]
  },
  {
   "cell_type": "code",
   "execution_count": 3,
   "metadata": {},
   "outputs": [
    {
     "data": {
      "application/vnd.jupyter.widget-view+json": {
       "model_id": "179bb5bea7024fa2a038b8948c47c236",
       "version_major": 2,
       "version_minor": 0
      },
      "text/plain": [
       "VBox(children=(HTML(value=''), Renderer(background='#cccc88', background_opacity=0.0, camera=PerspectiveCamera…"
      ]
     },
     "metadata": {},
     "output_type": "display_data"
    }
   ],
   "source": [
    "#Gen 1 lab\n",
    "def legol(m,n): # Base with Posts\n",
    "    \n",
    "    h= 7 # height of block\n",
    "    dh = 4.8 # Hole diameter\n",
    "    sd = 3.2\n",
    "    sf = dh +sd # Scale factor\n",
    "    \n",
    "    # 4 corners\n",
    "    c = translate([0,0,0])(cylinder(h = h, d = sf, segments=100)) \n",
    "    c = c + translate([(m-1)*sf,0,0])(cylinder(h = h, d = sf, segments=100))\n",
    "    c = c + translate([0,(n-1)*sf,0])(cylinder(h = h, d = sf, segments=100))\n",
    "    c = c + translate([(m-1)*sf,(n-1)*sf,0])(cylinder(h = h, d = sf, segments=100))\n",
    "    p=hull()(c)\n",
    "    \n",
    "    # Holes\n",
    "    for i in range(m):\n",
    "        for j in range(n):\n",
    "            p = p- translate([(i-1)*sf+sd+dh,(j-1)*sf+sd+dh,0])(cylinder(h=h,d=dh,segments=100))\n",
    "    return(p)\n",
    "\n",
    "#lego(5,2)\n",
    "#m=int(input('m : '))\n",
    "#n=int(input('n : '))\n",
    "#brick = legol(m,n)\n",
    "brick = legol(5,2)\n",
    "r.render(brick)"
   ]
  },
  {
   "cell_type": "code",
   "execution_count": 4,
   "metadata": {},
   "outputs": [
    {
     "name": "stdout",
     "output_type": "stream",
     "text": [
      "Height : 10\n"
     ]
    },
    {
     "data": {
      "application/vnd.jupyter.widget-view+json": {
       "model_id": "9071ea5908874437947a34e0e09ede8c",
       "version_major": 2,
       "version_minor": 0
      },
      "text/plain": [
       "VBox(children=(HTML(value=''), Renderer(background='#cccc88', background_opacity=0.0, camera=PerspectiveCamera…"
      ]
     },
     "metadata": {},
     "output_type": "display_data"
    }
   ],
   "source": [
    "#2b lab\n",
    "def bpl(n,h): # Base with Posts\n",
    "    dl = 4.8\n",
    "    sd = 3.2/2\n",
    "    p = cylinder(h=2,d=(dl+2*sd),segments=100) #Positive\n",
    "    t = float(dl)/2+2*sd\n",
    "    for i in range(1,n):\n",
    "        dist = (t+(dl)/2)\n",
    "        c1 = translate([dist,0,0]) (cylinder(h=2,d=dl+2*sd,segments=100))\n",
    "        p = p + c1\n",
    "        t = t+dl+2*sd\n",
    "    b=hull()(p,c1)\n",
    "    \n",
    "    p = cylinder(h=h,d=dl,segments=100) #Positive\n",
    "    t = dl/2+2*sd\n",
    "    for i in range(1,n):\n",
    "        dist = t+(dl/2)\n",
    "        c1 = translate([dist,0,0]) (cylinder(h=h,d=dl,segments=100))\n",
    "        p = p + c1\n",
    "        t = t+dl+2*sd\n",
    "    \n",
    "    posts = p+b\n",
    "    return posts\n",
    "\n",
    "#h=10\n",
    "h=int(input('Height : '))\n",
    "post = bpl(5,h)\n",
    "r.render(post)"
   ]
  },
  {
   "cell_type": "code",
   "execution_count": 5,
   "metadata": {},
   "outputs": [
    {
     "data": {
      "application/vnd.jupyter.widget-view+json": {
       "model_id": "7ebe5849d5c445fa967bc0aa093c71c5",
       "version_major": 2,
       "version_minor": 0
      },
      "text/plain": [
       "VBox(children=(HTML(value=''), Renderer(background='#cccc88', background_opacity=0.0, camera=PerspectiveCamera…"
      ]
     },
     "metadata": {},
     "output_type": "display_data"
    }
   ],
   "source": [
    "#Fitting\n",
    "comb = bpl(4,10) + translate([0,0,2.5])(legol(4,1))\n",
    "r.render(comb)"
   ]
  },
  {
   "cell_type": "code",
   "execution_count": 6,
   "metadata": {},
   "outputs": [],
   "source": [
    "#Gen 2\n",
    "f = 25.4 #Inch to mm conversion factor\n",
    "Nema = [11,17] #Standard\n",
    "MS = [1.1,1.7] #Motor Size Inches\n",
    "BHD = [23,31] #Bolt Hole Distance mm\n",
    "MSD = [5,5] #Motor Shaft Diameter mm\n",
    "PDia = [22,22] #Pilot Diameter mm\n",
    "PDep = [2,2] #Pilot Depth mm\n",
    "BHS = [4,4] #Bolt Hole Size mm\n",
    "\n",
    "mh1 = 10 #Length of Circular part\n",
    "mh2 = 8 #Length of Square part\n",
    "sg = 4 #Length of Side Groove part\n",
    "c = 1 #Clearance"
   ]
  },
  {
   "cell_type": "code",
   "execution_count": 7,
   "metadata": {
    "scrolled": false
   },
   "outputs": [
    {
     "name": "stdout",
     "output_type": "stream",
     "text": [
      "Nema Standard : 17\n"
     ]
    },
    {
     "data": {
      "application/vnd.jupyter.widget-view+json": {
       "model_id": "d9182623ca8442b7be6f52e15001a257",
       "version_major": 2,
       "version_minor": 0
      },
      "text/plain": [
       "VBox(children=(HTML(value=''), Renderer(background='#cccc88', background_opacity=0.0, camera=PerspectiveCamera…"
      ]
     },
     "metadata": {},
     "output_type": "display_data"
    }
   ],
   "source": [
    "def NMM(n): #Nema Motor Mount\n",
    "    if n == 11:\n",
    "        i = 0\n",
    "    elif n == 17:\n",
    "        i = 1\n",
    "    \n",
    "    DD = MS[i]*f #Motor Size in mm\n",
    "    a = BHD[i] #Bolt location\n",
    "    \n",
    "    s = translate([0,0,mh2-mh1-PDep[i]])(cylinder(h=mh1,d=PDia[i])) #Circular Base\n",
    "    s = s + translate([0,0,mh2/2])(cube([DD+sg,DD+sg,mh2+2],True)) # Top\n",
    "    s = s - translate([0,0,mh2])(cube([DD,DD,4],True)) # Motor Groove\n",
    "    s = s - translate([0,0,mh2-PDep[i]*2])(cylinder(h=PDep[i],d=PDia[i])) #Pilot\n",
    "    s = s - translate([0,0,mh2-mh1-PDep[i]])(cylinder(h=mh1+PDep[i],d=MSD[i]+c)) #Shaft\n",
    "    \n",
    "    s = s - translate([a/2,a/2,-mh2])(cylinder(h=2*mh2,d=BHS[i])) #Bolt\n",
    "    s = s - translate([-a/2,a/2,-mh2])(cylinder(h=2*mh2,d=BHS[i])) #Bolt\n",
    "    s = s - translate([a/2,-a/2,-mh2])(cylinder(h=2*mh2,d=BHS[i])) #Bolt\n",
    "    s = s - translate([-a/2,-a/2,-mh2])(cylinder(h=2*mh2,d=BHS[i])) #Bolt\n",
    "\n",
    "    return(s)\n",
    "\n",
    "n=int(input('Nema Standard : '))\n",
    "mm = NMM(n)\n",
    "r.render(mm)"
   ]
  },
  {
   "cell_type": "code",
   "execution_count": 8,
   "metadata": {},
   "outputs": [
    {
     "data": {
      "application/vnd.jupyter.widget-view+json": {
       "model_id": "38d91eba02f04a6d9dfefcc255dfc2e5",
       "version_major": 2,
       "version_minor": 0
      },
      "text/plain": [
       "VBox(children=(HTML(value=''), Renderer(background='#cccc88', background_opacity=0.0, camera=PerspectiveCamera…"
      ]
     },
     "metadata": {},
     "output_type": "display_data"
    }
   ],
   "source": [
    "i=1 # Nema 17\n",
    "po = ((rotate([-90,0,0]))(bpl(4,10)))\n",
    "r.render(NMM(Nema[i]) + translate([-(4*6.4)/2,MS[i]*f/2,mh2/2])(po))"
   ]
  },
  {
   "cell_type": "code",
   "execution_count": 9,
   "metadata": {},
   "outputs": [
    {
     "data": {
      "application/vnd.jupyter.widget-view+json": {
       "model_id": "4eff91a61b2f418eb309ab4810112de2",
       "version_major": 2,
       "version_minor": 0
      },
      "text/plain": [
       "VBox(children=(HTML(value=''), Renderer(background='#cccc88', background_opacity=0.0, camera=PerspectiveCamera…"
      ]
     },
     "metadata": {},
     "output_type": "display_data"
    }
   ],
   "source": [
    "#Motor with lego coupling\n",
    "c = ((rotate([-90,0,0]))(bpl(5,10)))\n",
    "r.render((translate([-(MS[1]*f/2+sg)/2,MS[1]*f/2+sg,0]))(c))"
   ]
  },
  {
   "cell_type": "code",
   "execution_count": 10,
   "metadata": {},
   "outputs": [
    {
     "data": {
      "application/vnd.jupyter.widget-view+json": {
       "model_id": "9015800b296c419daec64718c85c09fa",
       "version_major": 2,
       "version_minor": 0
      },
      "text/plain": [
       "VBox(children=(HTML(value=''), Renderer(background='#cccc88', background_opacity=0.0, camera=PerspectiveCamera…"
      ]
     },
     "metadata": {},
     "output_type": "display_data"
    }
   ],
   "source": [
    "#Gen 3\n",
    "def ac(ss): # Adapter Coupling\n",
    "    sh = 10 #shaft height\n",
    "    sn  = 0.4 #shaft notch\n",
    "    a = cylinder (h=sh+2,d=ss+4) - translate([0,0,2])(cylinder (h=sh,d=ss))\n",
    "    a = a + translate([ss/2-sn,-ss/2,2])(cube([sn,ss,10]))\n",
    "    #plus shape\n",
    "    a = a + translate([0,0,-2])(cube([4,2,4],True))\n",
    "    a = a + translate([0,0,-2])(cube([2,4,4],True))\n",
    "\n",
    "    r.render(a)\n",
    "    \n",
    "ac(MSD[i])"
   ]
  },
  {
   "cell_type": "code",
   "execution_count": 11,
   "metadata": {},
   "outputs": [
    {
     "data": {
      "application/vnd.jupyter.widget-view+json": {
       "model_id": "58dcd03a7374434a959d0c7c36391cd6",
       "version_major": 2,
       "version_minor": 0
      },
      "text/plain": [
       "VBox(children=(HTML(value=''), Renderer(background='#cccc88', background_opacity=0.0, camera=PerspectiveCamera…"
      ]
     },
     "metadata": {},
     "output_type": "display_data"
    }
   ],
   "source": [
    "#lego fitting\n",
    "a = cube([6,40,4])\n",
    "a = a - translate([3,4,2])(cube([4,2,4],True))\n",
    "a = a - translate([3,4,2])(cube([2,4,4],True))\n",
    "r.render(a)"
   ]
  }
 ],
 "metadata": {
  "kernelspec": {
   "display_name": "Python 3",
   "language": "python",
   "name": "python3"
  },
  "language_info": {
   "codemirror_mode": {
    "name": "ipython",
    "version": 3
   },
   "file_extension": ".py",
   "mimetype": "text/x-python",
   "name": "python",
   "nbconvert_exporter": "python",
   "pygments_lexer": "ipython3",
   "version": "3.7.3"
  }
 },
 "nbformat": 4,
 "nbformat_minor": 2
}
