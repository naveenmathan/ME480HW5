{
 "cells": [
  {
   "cell_type": "code",
   "execution_count": 2,
   "metadata": {},
   "outputs": [],
   "source": [
    "from solid import *\n",
    "import viewscad\n",
    "\n",
    "r = viewscad.Renderer(openscad_exec='C:\\Program Files\\OpenSCAD\\openscad.exe')"
   ]
  },
  {
   "cell_type": "code",
   "execution_count": 3,
   "metadata": {
    "scrolled": false
   },
   "outputs": [
    {
     "data": {
      "application/vnd.jupyter.widget-view+json": {
       "model_id": "8cd0544c717040f3ba6ced5c37245500",
       "version_major": 2,
       "version_minor": 0
      },
      "text/plain": [
       "VBox(children=(HTML(value=''), Renderer(background='#cccc88', background_opacity=0.0, camera=PerspectiveCamera…"
      ]
     },
     "metadata": {},
     "output_type": "display_data"
    }
   ],
   "source": [
    "#2a\n",
    "c1 = cylinder(r=10)\n",
    "c2 = cylinder(r=5)\n",
    "r.render(c1-c2)"
   ]
  },
  {
   "cell_type": "code",
   "execution_count": 47,
   "metadata": {},
   "outputs": [
    {
     "data": {
      "application/vnd.jupyter.widget-view+json": {
       "model_id": "0412f7656278488da32bf24d0ff03b3b",
       "version_major": 2,
       "version_minor": 0
      },
      "text/plain": [
       "VBox(children=(HTML(value=''), Renderer(background='#cccc88', background_opacity=0.0, camera=PerspectiveCamera…"
      ]
     },
     "metadata": {},
     "output_type": "display_data"
    }
   ],
   "source": [
    "#2b\n",
    "def bp(dl,sd,h): # Base with Posts\n",
    "    \n",
    "    p = cylinder(d=(float(dl[0])+2*sd),segments=100) #Positive\n",
    "    t=float(dl[0])/2+2*sd\n",
    "    for i in range(1,len(dl)):\n",
    "        dist = (t+(float(dl[i])/2))\n",
    "        c1 = translate([dist,0,0]) (cylinder(d=int(dl[i])+2*sd,segments=100))\n",
    "        p = p + c1\n",
    "        t = t+float(dl[i])+2*sd\n",
    "    b=hull()(p,c1)\n",
    "    \n",
    "    p = cylinder(h=h,d=(float(dl[0])),segments=100) #Positive\n",
    "    t=float(dl[0])/2+2*sd\n",
    "    for i in range(1,len(dl)):\n",
    "        dist = (t+(float(dl[i])/2))\n",
    "        c1 = translate([dist,0,0]) (cylinder(h=h,d=int(dl[i]),segments=100))\n",
    "        p = p + c1\n",
    "        t = t+float(dl[i])+2*sd\n",
    "    \n",
    "    posts = p+b\n",
    "    r.render(posts)\n",
    "\n",
    "dl=['6','4','8','6','4']\n",
    "sd=1\n",
    "h=10\n",
    "#dl=list(input('Diameters [] : ').split(','))\n",
    "#h=int(input('Thickness : '))\n",
    "bp(dl,sd,h)"
   ]
  }
 ],
 "metadata": {
  "kernelspec": {
   "display_name": "Python 3",
   "language": "python",
   "name": "python3"
  },
  "language_info": {
   "codemirror_mode": {
    "name": "ipython",
    "version": 3
   },
   "file_extension": ".py",
   "mimetype": "text/x-python",
   "name": "python",
   "nbconvert_exporter": "python",
   "pygments_lexer": "ipython3",
   "version": "3.7.3"
  }
 },
 "nbformat": 4,
 "nbformat_minor": 2
}
