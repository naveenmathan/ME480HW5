{
 "cells": [
  {
   "cell_type": "code",
   "execution_count": 2,
   "metadata": {},
   "outputs": [],
   "source": [
    "from solid import *\n",
    "import viewscad\n",
    "\n",
    "r = viewscad.Renderer(openscad_exec='C:\\Program Files\\OpenSCAD\\openscad.exe')"
   ]
  },
  {
   "cell_type": "code",
   "execution_count": 3,
   "metadata": {
    "scrolled": false
   },
   "outputs": [
    {
     "data": {
      "application/vnd.jupyter.widget-view+json": {
       "model_id": "ddf359a512d34c9994e354ab7288b26a",
       "version_major": 2,
       "version_minor": 0
      },
      "text/plain": [
       "VBox(children=(HTML(value=''), Renderer(background='#cccc88', background_opacity=0.0, camera=PerspectiveCamera…"
      ]
     },
     "metadata": {},
     "output_type": "display_data"
    }
   ],
   "source": [
    "#1a\n",
    "c1 = cylinder(d=10)\n",
    "c2 = cylinder(d=5)\n",
    "r.render(c1-c2)"
   ]
  },
  {
   "cell_type": "code",
   "execution_count": 4,
   "metadata": {
    "scrolled": true
   },
   "outputs": [
    {
     "name": "stdout",
     "output_type": "stream",
     "text": [
      "Inner Dia: 5\n",
      "Outer Dia: 10\n"
     ]
    },
    {
     "data": {
      "application/vnd.jupyter.widget-view+json": {
       "model_id": "da1931aa82bf481bbb734d2e2d6ba801",
       "version_major": 2,
       "version_minor": 0
      },
      "text/plain": [
       "VBox(children=(HTML(value=''), Renderer(background='#cccc88', background_opacity=0.0, camera=PerspectiveCamera…"
      ]
     },
     "metadata": {},
     "output_type": "display_data"
    }
   ],
   "source": [
    "#1b\n",
    "def cwh(di,do): # Cylinder With Hole\n",
    "    if di>do:\n",
    "        print('Error')\n",
    "    else:\n",
    "        #h=10\n",
    "        c1 = cylinder(d=do,segments=100)\n",
    "        c2 = cylinder(d=di,segments=100)\n",
    "        r.render(c1-c2)\n",
    "\n",
    "di=int(input('Inner Dia: '))\n",
    "do=int(input('Outer Dia: '))\n",
    "cwh(di,do)"
   ]
  },
  {
   "cell_type": "code",
   "execution_count": 5,
   "metadata": {},
   "outputs": [
    {
     "name": "stdout",
     "output_type": "stream",
     "text": [
      "Inner Dia: 10\n",
      "Outer Dia: 5\n",
      "Error\n"
     ]
    }
   ],
   "source": [
    "di=int(input('Inner Dia: '))\n",
    "do=int(input('Outer Dia: '))\n",
    "cwh(di,do)"
   ]
  },
  {
   "cell_type": "code",
   "execution_count": 66,
   "metadata": {},
   "outputs": [
    {
     "data": {
      "application/vnd.jupyter.widget-view+json": {
       "model_id": "fbbfedbc5d0041f4bdd8ef9a7b6f0039",
       "version_major": 2,
       "version_minor": 0
      },
      "text/plain": [
       "VBox(children=(HTML(value=''), Renderer(background='#cccc88', background_opacity=0.0, camera=PerspectiveCamera…"
      ]
     },
     "metadata": {},
     "output_type": "display_data"
    }
   ],
   "source": [
    "#1c\n",
    "def cwho(dl,h): # Cylinders With Hole Overlap\n",
    "    \n",
    "    p = cylinder(d=(float(dl[0])+2*h),segments=100) #Positive\n",
    "    n = cylinder(d=(float(dl[0])),segments=100) #Negative\n",
    "    t=float(dl[0])/2+h\n",
    "   \n",
    "    for i in range(1,len(dl)):\n",
    "        dist = (t+(float(dl[i])/2))\n",
    "        c1 = translate([dist,0,0]) (cylinder(d=int(dl[i])+2*h,segments=100))\n",
    "        c2 = translate([dist,0,0]) (cylinder(d=int(dl[i]),segments=100))\n",
    "        \n",
    "        p = p + c1\n",
    "        n = n + c2\n",
    "        t = t+float(dl[i])+h\n",
    "    r.render(p-n)\n",
    "\n",
    "dl=['6','4','8','6']\n",
    "h=2\n",
    "#dl=list(input('Diameters [] : ').split(','))\n",
    "#h=int(input('Thickness : '))\n",
    "cwho(dl,h)"
   ]
  },
  {
   "cell_type": "code",
   "execution_count": null,
   "metadata": {},
   "outputs": [],
   "source": [
    "#1c working\n",
    "def cwho(dl,h): # Cylinders With Hole Overlap\n",
    "    \n",
    "    p = cylinder(d=(float(dl[0])/2+2*h),segments=100) #Positive\n",
    "    n = cylinder(d=(float(dl[0])/2),segments=100) #Negative\n",
    "    t=float(dl[0])-h\n",
    "   \n",
    "    for i in range(1,len(dl)):\n",
    "        dist = (t/2+(float(dl[i])/4))\n",
    "        c1 = translate([dist,0,0]) (cylinder(d=2*int(i)+2*h,segments=100))\n",
    "        c2 = translate([dist,0,0]) (cylinder(d=2*int(i),segments=100))\n",
    "        \n",
    "        p = p + c1\n",
    "        n = n + c2\n",
    "        t = t+float(dl[i])+2*h\n",
    "    r.render(p-n)\n",
    "\n",
    "dl=['6','4','8']\n",
    "h=1\n",
    "#dl=list(input('Diameters [] : ').split(','))\n",
    "#h=int(input('Thickness : '))\n",
    "cwho(dl,h)"
   ]
  },
  {
   "cell_type": "code",
   "execution_count": null,
   "metadata": {},
   "outputs": [],
   "source": [
    "#1c backup\n",
    "def cwho(dl,h): # Cylinders With Hole Overlap\n",
    "    \n",
    "    p = cylinder(d=(float(dl[0])/4+2*h),segments=100) #Positive\n",
    "    n = cylinder(d=(float(dl[0])/4),segments=100) #Negative\n",
    "    t=float(dl[0])/2\n",
    "   \n",
    "    for i in range(1,len(dl)):\n",
    "        dist = (t/2+(float(dl[i])/4))\n",
    "        c1 = translate([dist,0,0]) (cylinder(d=2*int(i)+2*h,segments=100))\n",
    "        c2 = translate([dist,0,0]) (cylinder(d=2*int(i),segments=100))\n",
    "        \n",
    "        p = p + c1\n",
    "        n = n + c2\n",
    "        t = t+float(dl[i])+2*h\n",
    "        print(t)\n",
    "        r.render(p-n)\n",
    "\n",
    "#dl=['6','4','8','6']\n",
    "dl=['12','8','16','20']\n",
    "h=1\n",
    "#dl=list(input('Diameters [] : ').split(','))\n",
    "#h=int(input('Thickness : '))\n",
    "cwho(dl,h)"
   ]
  }
 ],
 "metadata": {
  "kernelspec": {
   "display_name": "Python 3",
   "language": "python",
   "name": "python3"
  },
  "language_info": {
   "codemirror_mode": {
    "name": "ipython",
    "version": 3
   },
   "file_extension": ".py",
   "mimetype": "text/x-python",
   "name": "python",
   "nbconvert_exporter": "python",
   "pygments_lexer": "ipython3",
   "version": "3.7.3"
  }
 },
 "nbformat": 4,
 "nbformat_minor": 2
}
