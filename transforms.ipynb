{
 "cells": [
  {
   "cell_type": "code",
   "execution_count": 1,
   "metadata": {},
   "outputs": [],
   "source": [
    "from solid import *\n",
    "from solid.utils import *\n",
    "import viewscad\n",
    "\n",
    "r = viewscad.Renderer(openscad_exec='C:\\Program Files\\OpenSCAD\\openscad.exe')"
   ]
  },
  {
   "cell_type": "code",
   "execution_count": 2,
   "metadata": {},
   "outputs": [
    {
     "data": {
      "application/vnd.jupyter.widget-view+json": {
       "model_id": "e76455aa1fc440528fe46652624f52ba",
       "version_major": 2,
       "version_minor": 0
      },
      "text/plain": [
       "VBox(children=(HTML(value=''), Renderer(background='#cccc88', background_opacity=0.0, camera=PerspectiveCamera…"
      ]
     },
     "metadata": {},
     "output_type": "display_data"
    },
    {
     "data": {
      "application/vnd.jupyter.widget-view+json": {
       "model_id": "10f6564b2246475f9937926d791ae41c",
       "version_major": 2,
       "version_minor": 0
      },
      "text/plain": [
       "VBox(children=(HTML(value=''), Renderer(background='#cccc88', background_opacity=0.0, camera=PerspectiveCamera…"
      ]
     },
     "metadata": {},
     "output_type": "display_data"
    },
    {
     "data": {
      "application/vnd.jupyter.widget-view+json": {
       "model_id": "43f7741269554b9da0d371aa3f56ce25",
       "version_major": 2,
       "version_minor": 0
      },
      "text/plain": [
       "VBox(children=(HTML(value=''), Renderer(background='#cccc88', background_opacity=0.0, camera=PerspectiveCamera…"
      ]
     },
     "metadata": {},
     "output_type": "display_data"
    }
   ],
   "source": [
    "#a\n",
    "from math import *\n",
    "x=20\n",
    "y=-10\n",
    "z=-30\n",
    "\n",
    "#c=translate([5,5,0])(cube(1))\n",
    "c = cube(1)\n",
    "\n",
    "mz = [[cos(z), -sin(z), 0, 0],\n",
    "      [sin(z),  cos(z), 0, 0],\n",
    "      [     0,       0, 1, 0],\n",
    "      [     0,       0, 0, 1] ]\n",
    "\n",
    "c = (multmatrix(mz)(c))\n",
    "r.render(c)\n",
    "\n",
    "my = [[cos(y),  0,sin(y), 0],\n",
    "      [     0,  1,     0, 0],\n",
    "      [-sin(y), 0,cos(y), 0],\n",
    "      [     0,  0,     0, 1] ]\n",
    "\n",
    "c = (multmatrix(my)(c))\n",
    "r.render(c)\n",
    "\n",
    "mx = [[1,      0,       0, 0],\n",
    "      [0, cos(x), -sin(x), 0],\n",
    "      [0, sin(x),  cos(x), 0],\n",
    "      [0,      0,       0, 1] ]\n",
    "\n",
    "c = (multmatrix(mx)(c))\n",
    "r.render(c)\n"
   ]
  },
  {
   "cell_type": "code",
   "execution_count": 3,
   "metadata": {},
   "outputs": [
    {
     "data": {
      "application/vnd.jupyter.widget-view+json": {
       "model_id": "6412129b0f594fcc9c79876b05f52c65",
       "version_major": 2,
       "version_minor": 0
      },
      "text/plain": [
       "VBox(children=(HTML(value=''), Renderer(background='#cccc88', background_opacity=0.0, camera=PerspectiveCamera…"
      ]
     },
     "metadata": {},
     "output_type": "display_data"
    }
   ],
   "source": [
    "#b\n",
    "c=translate([5,5,0])(c)\n",
    "r.render(c)"
   ]
  },
  {
   "cell_type": "code",
   "execution_count": 4,
   "metadata": {},
   "outputs": [
    {
     "data": {
      "application/vnd.jupyter.widget-view+json": {
       "model_id": "c4091cf679804060bdad731c5f8f8c3b",
       "version_major": 2,
       "version_minor": 0
      },
      "text/plain": [
       "VBox(children=(HTML(value=''), Renderer(background='#cccc88', background_opacity=0.0, camera=PerspectiveCamera…"
      ]
     },
     "metadata": {},
     "output_type": "display_data"
    },
    {
     "data": {
      "application/vnd.jupyter.widget-view+json": {
       "model_id": "653f0e7393e74287af14eae462d6215b",
       "version_major": 2,
       "version_minor": 0
      },
      "text/plain": [
       "VBox(children=(HTML(value=''), Renderer(background='#cccc88', background_opacity=0.0, camera=PerspectiveCamera…"
      ]
     },
     "metadata": {},
     "output_type": "display_data"
    },
    {
     "data": {
      "application/vnd.jupyter.widget-view+json": {
       "model_id": "a50235dcdec64ef8b5abf12d52e7bbf5",
       "version_major": 2,
       "version_minor": 0
      },
      "text/plain": [
       "VBox(children=(HTML(value=''), Renderer(background='#cccc88', background_opacity=0.0, camera=PerspectiveCamera…"
      ]
     },
     "metadata": {},
     "output_type": "display_data"
    }
   ],
   "source": [
    "#c\n",
    "c = cube(1)\n",
    "b=0.5\n",
    "\n",
    "sx = [[1, b, 0, 0],\n",
    "      [0, 1, 0, 0],\n",
    "      [0, 0, 1, 0],\n",
    "      [0, 0, 0, 1] ]\n",
    "\n",
    "c = (multmatrix(sx)(c))\n",
    "r.render(c)\n",
    "\n",
    "sy = [[1, 0, 0, 0],\n",
    "      [b, 1, 0, 0],\n",
    "      [0, 0, 1, 0],\n",
    "      [0, 0, 0, 1] ]\n",
    "\n",
    "c = (multmatrix(sy)(c))\n",
    "r.render(c)\n",
    "\n",
    "sz = [[1, 0, 0, 0],\n",
    "      [0, 1, 0, 0],\n",
    "      [0, b, 1, 0],\n",
    "      [0, 0, 0, 1] ]\n",
    "\n",
    "c = (multmatrix(sz)(c))\n",
    "r.render(c)\n",
    "\n"
   ]
  }
 ],
 "metadata": {
  "kernelspec": {
   "display_name": "Python 3",
   "language": "python",
   "name": "python3"
  },
  "language_info": {
   "codemirror_mode": {
    "name": "ipython",
    "version": 3
   },
   "file_extension": ".py",
   "mimetype": "text/x-python",
   "name": "python",
   "nbconvert_exporter": "python",
   "pygments_lexer": "ipython3",
   "version": "3.7.3"
  }
 },
 "nbformat": 4,
 "nbformat_minor": 2
}
